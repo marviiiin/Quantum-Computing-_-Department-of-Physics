{
 "cells": [
  {
   "cell_type": "markdown",
   "metadata": {},
   "source": [
    "\n",
    "# Understanding Vectors, Matrices, and the Role of Linear Algebra\n",
    "\n",
    "\n",
    "\n",
    "A vector is a mathematical entity used to represent physical quantities that have both magnitude and direction. It’s a fundamental tool for solving engineering and machine learning problems. So are matrices, which are used to represent vector transformations, among other applications."
   ]
  },
  {
   "cell_type": "markdown",
   "metadata": {},
   "source": [
    "Note: In Python, NumPy is the most used library for working with matrices and vectors. It uses a special type called ndarray to represent them. As an example, imagine that you need to create the following matrix:\n",
    "\n",
    "\n",
    "\\[\n",
    "\\begin{bmatrix}\n",
    "1 & 2 \\\\\n",
    "3 & 4 \\\\\n",
    "5 & 6\n",
    "\\end{bmatrix}\n",
    "\\]\n",
    "\n"
   ]
  },
  {
   "cell_type": "code",
   "execution_count": 2,
   "metadata": {},
   "outputs": [
    {
     "data": {
      "text/plain": [
       "array([[1, 2],\n",
       "       [3, 4],\n",
       "       [5, 6]])"
      ]
     },
     "execution_count": 2,
     "metadata": {},
     "output_type": "execute_result"
    }
   ],
   "source": [
    "import numpy as np\n",
    "\n",
    "A = np.array([[1,2], [3,4], [5,6]])\n",
    "A"
   ]
  },
  {
   "cell_type": "markdown",
   "metadata": {},
   "source": [
    "NumPy provides several functions to facilitate working with vector and matrix computations. \n",
    "\n",
    "\n",
    "As you may notice, NumPy provides a visual representation of the matrix, in which you can identify its columns and rows.\n",
    "\n",
    "It’s worth noting that the elements of a NumPy array must be of the same type. You can check the type of a NumPy array using .dtype:"
   ]
  },
  {
   "cell_type": "code",
   "execution_count": 3,
   "metadata": {},
   "outputs": [
    {
     "data": {
      "text/plain": [
       "dtype('int64')"
      ]
     },
     "execution_count": 3,
     "metadata": {},
     "output_type": "execute_result"
    }
   ],
   "source": [
    "A.dtype"
   ]
  },
  {
   "cell_type": "markdown",
   "metadata": {},
   "source": [
    "Because all the elements of A are integers, the array was created with type int64. If one of the elements is a float, then the array will be created with type float64:"
   ]
  },
  {
   "cell_type": "code",
   "execution_count": 4,
   "metadata": {},
   "outputs": [
    {
     "name": "stdout",
     "output_type": "stream",
     "text": [
      "[[1. 2.]\n",
      " [3. 4.]\n",
      " [5. 6.]]\n"
     ]
    },
    {
     "data": {
      "text/plain": [
       "dtype('float64')"
      ]
     },
     "execution_count": 4,
     "metadata": {},
     "output_type": "execute_result"
    }
   ],
   "source": [
    "B = np.array([[1.0, 2], [3, 4], [5, 6]])\n",
    "print(B)\n",
    "B.dtype"
   ]
  },
  {
   "cell_type": "markdown",
   "metadata": {},
   "source": [
    "To check the dimensions of an ndarray object, you can use .shape. For example, to check the dimensions of A, you can use A.shape:"
   ]
  },
  {
   "cell_type": "code",
   "execution_count": 7,
   "metadata": {},
   "outputs": [
    {
     "data": {
      "text/plain": [
       "(3, 2)"
      ]
     },
     "execution_count": 7,
     "metadata": {},
     "output_type": "execute_result"
    }
   ],
   "source": [
    "A.shape\n"
   ]
  },
  {
   "cell_type": "markdown",
   "metadata": {},
   "source": [
    "As expected, the dimensions of the A matrix are 3 × 2 since A has three rows and two columns."
   ]
  },
  {
   "cell_type": "markdown",
   "metadata": {},
   "source": [
    "When working with problems involving matrices, you’ll often need to use the transpose operation, which swaps the columns and rows of a matrix.\n",
    "\n",
    "To transpose a vector or matrix represented by an ndarray object, you can use .transpose() or .T. For example, you can obtain the transpose of A with A.T:"
   ]
  },
  {
   "cell_type": "code",
   "execution_count": 8,
   "metadata": {},
   "outputs": [
    {
     "name": "stdout",
     "output_type": "stream",
     "text": [
      "[[1 3 5]\n",
      " [2 4 6]]\n",
      "[[1. 3. 5.]\n",
      " [2. 4. 6.]]\n"
     ]
    }
   ],
   "source": [
    "print(A.T)\n",
    "print(B.T)"
   ]
  },
  {
   "cell_type": "markdown",
   "metadata": {},
   "source": [
    "With the transposition, the columns of A become the rows of A.T, and the rows become the columns."
   ]
  },
  {
   "cell_type": "markdown",
   "metadata": {},
   "source": [
    "To create a vector, you also use np.array(), providing a list with the elements of the vector:"
   ]
  },
  {
   "cell_type": "code",
   "execution_count": 9,
   "metadata": {},
   "outputs": [
    {
     "data": {
      "text/plain": [
       "array([1, 2, 3])"
      ]
     },
     "execution_count": 9,
     "metadata": {},
     "output_type": "execute_result"
    }
   ],
   "source": [
    "v = np.array([1, 2, 3])\n",
    "v"
   ]
  },
  {
   "cell_type": "markdown",
   "metadata": {},
   "source": [
    "To check the dimensions of the vector, you use .shape just like you did before:"
   ]
  },
  {
   "cell_type": "code",
   "execution_count": 10,
   "metadata": {},
   "outputs": [
    {
     "data": {
      "text/plain": [
       "(3,)"
      ]
     },
     "execution_count": 10,
     "metadata": {},
     "output_type": "execute_result"
    }
   ],
   "source": [
    "v.shape"
   ]
  },
  {
   "cell_type": "markdown",
   "metadata": {},
   "source": [
    "Notice that the shape of this vector is (3,) and not (3, 1) or (1, 3).  In NumPy, it’s possible to create one-dimensional arrays such as v, which may cause problems when performing operations between matrices and vectors. For example, the transposition operation has no effect on one-dimensional arrays."
   ]
  },
  {
   "cell_type": "markdown",
   "metadata": {},
   "source": [
    "Whenever you provide a one-dimensional array-like argument to np.array(), the resulting array will be a one-dimensional array. To create a two-dimensional array, you must provide a two-dimensional array-like argument, such as a nested list:"
   ]
  },
  {
   "cell_type": "code",
   "execution_count": 13,
   "metadata": {},
   "outputs": [
    {
     "name": "stdout",
     "output_type": "stream",
     "text": [
      "[[1]\n",
      " [2]\n",
      " [3]]\n"
     ]
    },
    {
     "data": {
      "text/plain": [
       "(3, 1)"
      ]
     },
     "execution_count": 13,
     "metadata": {},
     "output_type": "execute_result"
    }
   ],
   "source": [
    "v = np.array([[1], [2], [3]])\n",
    "print(v)\n",
    "\n",
    "v.shape"
   ]
  },
  {
   "cell_type": "markdown",
   "metadata": {},
   "source": [
    "In this case, the dimensions of v are 3 × 1, which corresponds to the dimensions of a two-dimensional column vector."
   ]
  },
  {
   "cell_type": "markdown",
   "metadata": {},
   "source": [
    "Using nested lists to create vectors can be laborious, especially for column vectors, which you’ll probably use the most. As an alternative, you can create a one-dimensional vector, providing a flat list to np.array, and use .reshape() to change the dimensions of the ndarray object:"
   ]
  },
  {
   "cell_type": "code",
   "execution_count": 14,
   "metadata": {},
   "outputs": [
    {
     "name": "stdout",
     "output_type": "stream",
     "text": [
      "[[1]\n",
      " [2]\n",
      " [3]]\n"
     ]
    }
   ],
   "source": [
    "v = np.array([1, 2, 3]).reshape(3, 1)\n",
    "print(v)"
   ]
  },
  {
   "cell_type": "markdown",
   "metadata": {},
   "source": [
    "In the above example, you use .reshape() to obtain a column vector with the shape (3, 1) from a one-dimensional vector with the shape (3,). It’s worth noting that .reshape() expects the number of elements of the new array to be compatible with the number of elements of the original array. In other words, the number of elements in the array with the new shape must be equal to the number of elements in the original array.\n",
    "\n",
    "In this example, you could also use .reshape() without explicitly defining the number of rows of the array:"
   ]
  },
  {
   "cell_type": "code",
   "execution_count": 15,
   "metadata": {},
   "outputs": [
    {
     "name": "stdout",
     "output_type": "stream",
     "text": [
      "[[1]\n",
      " [2]\n",
      " [3]]\n"
     ]
    }
   ],
   "source": [
    "v = np.array([1, 2, 3]).reshape(-1, 1)\n",
    "print(v)"
   ]
  },
  {
   "cell_type": "markdown",
   "metadata": {},
   "source": [
    "Here, the -1 that you provide as an argument to .reshape() represents the number of rows necessary for the new array to have just one column, as specified by the second argument. In this case, because the original array has three elements, the number of rows for the new array will be 3."
   ]
  },
  {
   "cell_type": "markdown",
   "metadata": {},
   "source": [
    "# Using Convenience Functions to Create Arrays\n",
    "NumPy also provides some convenience functions to create arrays. For example, to create an array filled with zeros, you can use np.zeros():"
   ]
  },
  {
   "cell_type": "code",
   "execution_count": 16,
   "metadata": {},
   "outputs": [
    {
     "data": {
      "text/plain": [
       "array([[0., 0.],\n",
       "       [0., 0.],\n",
       "       [0., 0.]])"
      ]
     },
     "execution_count": 16,
     "metadata": {},
     "output_type": "execute_result"
    }
   ],
   "source": [
    "import numpy as np\n",
    "\n",
    "np.zeros((3, 2))"
   ]
  },
  {
   "cell_type": "markdown",
   "metadata": {},
   "source": [
    "As its first argument, np.zeros() expects a tuple indicating the shape of the array that you want to create, and it returns an array of the type float64."
   ]
  },
  {
   "cell_type": "markdown",
   "metadata": {},
   "source": [
    "Note: To specify the type of array that np.zeros() will create, you can pass in an argument for dtype. For example, np.zeros((3, 2), dtype=int) creates an integer array."
   ]
  },
  {
   "cell_type": "markdown",
   "metadata": {},
   "source": [
    "It’s worth noting that np.ones() also returns an array of the type float64.\n",
    "\n",
    "To create arrays with random elements, you can use np.random.rand():"
   ]
  },
  {
   "cell_type": "code",
   "execution_count": 24,
   "metadata": {},
   "outputs": [
    {
     "data": {
      "text/plain": [
       "array([[ 0.38068349, -0.76567463],\n",
       "       [ 0.39158015, -0.47697397],\n",
       "       [-1.20311312, -0.96330425]])"
      ]
     },
     "execution_count": 24,
     "metadata": {},
     "output_type": "execute_result"
    }
   ],
   "source": [
    "np.random.randn(3, 2)"
   ]
  },
  {
   "cell_type": "markdown",
   "metadata": {},
   "source": [
    "Now that you’ve gone through creating arrays, you’ll see how to perform operations with them."
   ]
  },
  {
   "cell_type": "markdown",
   "metadata": {},
   "source": [
    "# Performing Operations on NumPy Arrays\n",
    "The usual Python operations using the addition (+), subtraction (-), multiplication (*), division (/), and exponent (**) operators on arrays are always performed element-wise. If one of the operands is a scalar, then you’ll perform the operation between the scalar and each element of the array."
   ]
  },
  {
   "cell_type": "markdown",
   "metadata": {},
   "source": [
    "For example, to create a matrix filled with elements equal to 10, you can use np.ones() and multiply the output by 10 using the * operator:"
   ]
  },
  {
   "cell_type": "code",
   "execution_count": 29,
   "metadata": {},
   "outputs": [
    {
     "name": "stdout",
     "output_type": "stream",
     "text": [
      "[[10. 10.]\n",
      " [10. 10.]]\n",
      "[[20. 20. 20.]\n",
      " [20. 20. 20.]]\n"
     ]
    }
   ],
   "source": [
    "np.ones((2, 2))\n",
    "x = 10 * np.ones((2, 2))\n",
    "print(x)\n",
    "\n",
    "y = 20 *np.ones((2, 3))\n",
    "print(y)"
   ]
  },
  {
   "cell_type": "markdown",
   "metadata": {},
   "source": [
    "If both operands are arrays of the same shape, then you’ll perform the operation between the corresponding elements of the arrays:"
   ]
  },
  {
   "cell_type": "code",
   "execution_count": 31,
   "metadata": {},
   "outputs": [
    {
     "name": "stdout",
     "output_type": "stream",
     "text": [
      "[[1 2]\n",
      " [3 4]]\n",
      "[[5]\n",
      " [6]]\n"
     ]
    },
    {
     "data": {
      "text/plain": [
       "array([[17],\n",
       "       [39]])"
      ]
     },
     "execution_count": 31,
     "metadata": {},
     "output_type": "execute_result"
    }
   ],
   "source": [
    "A = np.array([[1, 2], [3, 4]])\n",
    "print(A)\n",
    "\n",
    "v = np.array([[5], [6]])\n",
    "print(v)\n",
    "\n",
    "A @ v"
   ]
  },
  {
   "cell_type": "markdown",
   "metadata": {},
   "source": [
    "Here, you multiply each element of matrix A by the corresponding element of matrix B."
   ]
  },
  {
   "cell_type": "markdown",
   "metadata": {},
   "source": [
    "Here, you multiply a 2 × 2 matrix named A by a 2 × 1 vector named v."
   ]
  },
  {
   "cell_type": "markdown",
   "metadata": {},
   "source": [
    "You could obtain the same result using np.dot(), although you’re encouraged to use @ instead:"
   ]
  },
  {
   "cell_type": "code",
   "execution_count": 32,
   "metadata": {},
   "outputs": [
    {
     "name": "stdout",
     "output_type": "stream",
     "text": [
      "[[1 2]\n",
      " [3 4]]\n",
      "[[5]\n",
      " [6]]\n"
     ]
    },
    {
     "data": {
      "text/plain": [
       "array([[17],\n",
       "       [39]])"
      ]
     },
     "execution_count": 32,
     "metadata": {},
     "output_type": "execute_result"
    }
   ],
   "source": [
    "A = np.array([[1, 2], [3, 4]])\n",
    "print(A)\n",
    "\n",
    "v = np.array([[5], [6]])\n",
    "print(v)\n",
    "\n",
    "np.dot( A, v)"
   ]
  },
  {
   "cell_type": "markdown",
   "metadata": {},
   "source": [
    "\n",
    "# Eigenvalues and Eigenvectors\n",
    "Let's consider the matrix $\\mathbf{A}$ and the vectors $\\vec{u}$ and $\\vec{v}$:\n",
    "\n",
    "$$\n",
    "\\mathbf{A} =\n",
    "\\begin{pmatrix}\n",
    "1 & 6 \\\\\n",
    "5 & 2\n",
    "\\end{pmatrix}\n",
    "~~~~~,~~~~~\n",
    "\\vec{u} =\n",
    "\\begin{pmatrix}\n",
    "1 \\\\\n",
    "1\n",
    "\\end{pmatrix}\n",
    "~~~~~,~~~~~\n",
    "\\vec{v} =\n",
    "\\begin{pmatrix}\n",
    "-6 \\\\\n",
    "5\n",
    "\\end{pmatrix}\n",
    "$$\n"
   ]
  },
  {
   "cell_type": "markdown",
   "metadata": {},
   "source": [
    "By performing the $\\mathbf{A}\\vec{u}$ and $\\mathbf{A}\\vec{v}$ multiplications, we obtain that:\n",
    "\n",
    "$$\n",
    "\\mathbf{A}\\vec{u} =\n",
    "\\begin{pmatrix}\n",
    "7 \\\\\n",
    "7\n",
    "\\end{pmatrix}\n",
    "~~~~~,~~~~~\n",
    "\\mathbf{A}\\vec{v} =\n",
    "\\begin{pmatrix}\n",
    "24 \\\\\n",
    "-20\n",
    "\\end{pmatrix}\n",
    "$$\n",
    "\n",
    "\n",
    "Note that $\\mathbf{A}\\vec{u}=7\\vec{u}$, and that $\\mathbf{A}\\vec{v}=-4\\vec{v}$\n"
   ]
  },
  {
   "cell_type": "markdown",
   "metadata": {},
   "source": [
    "<br>\n",
    "\n",
    "An **eigenvector** of a ($n\\times n$)-dimensional matrix $\\mathbf{M}$ is a non-zero vector $\\vec{x}$ such that $\\mathbf{M}\\vec{x}=\\lambda\\vec{x}$ for some scalar $\\lambda$. A scalar $\\lambda$ is an **eigenvalue** of $\\mathbf{M}$ if there exists a non-trivial solution $\\vec{x}$ of $\\mathbf{M}\\vec{x}=\\lambda\\vec{x}$; such $\\vec{x}$ is the corresponding eigenvector of $\\lambda$.\n",
    "\n",
    "In quantum mechanics, and therefore in quantum computing, the eigenvectors are also called **eigenstates**.\n",
    "\n",
    "<br>\n",
    "\n",
    "From the previous example, notice that $7$ and $-4$ are the eigenvalues of $\\mathbf{A}$ and their corresponding eigenvectors are $\\vec{u}$ and $\\vec{v}$.\n",
    "\n",
    "<br>"
   ]
  },
  {
   "cell_type": "code",
   "execution_count": null,
   "metadata": {},
   "outputs": [],
   "source": []
  },
  {
   "cell_type": "markdown",
   "metadata": {},
   "source": [
    "# Linear Operators\n",
    "An operator is generally a mapping or function that acts on elements of one space to produce elements of another space. A **linear operator** acts on _vector spaces_ and is mathematically written: $\\mathbf{O}: U \\rightarrow V$.\n",
    "\n",
    "Where $\\mathbf{O}$ is the map that sends the elements of the vector space $U$ to elements of the vector space $V$, both vector spaces must have the same field $F$ (for example, the real numbers or the complex numbers).\n",
    "\n",
    "The most convenient way to understand linear operators is in termns of their **matrix representations**.\n",
    "\n",
    "For example, consider the following operator $\\mathbf{O}$, the vector space $U$ as the space of $3$-dimensional vectors, then one of its elements would be $\\vec{u}$, and the vector space $V$ as the space of 2-dimensional vectors.\n",
    "\n",
    "$$\n",
    "\\mathbf{O} =\n",
    "\\begin{pmatrix}\n",
    "2 & -3 & 4 \\\\\n",
    "1 & 7 & -5\n",
    "\\end{pmatrix}\n",
    "~~~~~~,~~~~~~\n",
    "\\vec{u} =\n",
    "\\begin{pmatrix}\n",
    "6 \\\\\n",
    "-1 \\\\\n",
    "2\n",
    "\\end{pmatrix}\n",
    "$$\n"
   ]
  },
  {
   "cell_type": "markdown",
   "metadata": {},
   "source": [
    "To find the mapping of $\\mathbf{O}$ onto $\\vec{u}$, we apply the operator on this vector, and we will obtain an element of the vector space $V$,"
   ]
  },
  {
   "cell_type": "markdown",
   "metadata": {},
   "source": [
    "$$\n",
    "\\mathbf{O}\\vec{u} = \n",
    "\\begin{pmatrix}\n",
    "2 & -3 & 4 \\\\\n",
    "1 & 7 & -5\n",
    "\\end{pmatrix}\n",
    "\\begin{pmatrix}\n",
    "6 \\\\\n",
    "-1 \\\\\n",
    "2\n",
    "\\end{pmatrix} = \n",
    "\\begin{pmatrix}\n",
    "23 \\\\\n",
    "-11\n",
    "\\end{pmatrix} = \\vec{v}\n",
    "$$\n",
    "\n",
    "where $\\vec{v}$ is an element of $V$."
   ]
  },
  {
   "cell_type": "markdown",
   "metadata": {},
   "source": [
    "Let's consider the operator $R(\\theta)$, this operator is parameterized, which means that it receives a parameter, a value that can change with each use of the operator.\n",
    "\n",
    "$$\n",
    "\\mathbf{R(\\theta)} = \\begin{bmatrix}\n",
    "\\cos(\\theta) & -\\sin(\\theta) \\\\\n",
    "\\sin(\\theta) & \\cos(\\theta)\n",
    "\\end{bmatrix}\n",
    "$$\n",
    "\n",
    "\n",
    "Now, let's create a Python function that receives the parameter $\\theta$ and returns the operator $R(\\theta)$.\n",
    "\n",
    "A **function** in programming is a block of code which only runs when it is called. You can pass data, known as parameters, into a function. A function can return data as a result."
   ]
  },
  {
   "cell_type": "code",
   "execution_count": null,
   "metadata": {},
   "outputs": [],
   "source": []
  },
  {
   "cell_type": "code",
   "execution_count": null,
   "metadata": {},
   "outputs": [],
   "source": []
  },
  {
   "cell_type": "markdown",
   "metadata": {},
   "source": [
    "Note that the values of the antidiagonal are very small, so they can be considered as zeros, so, when $\\theta=\\pi$ we have that,\n",
    "$$\n",
    "\\mathbf{R(\\pi)} = \\begin{bmatrix}\n",
    "-1 & 0 \\\\\n",
    "0 & -1\n",
    "\\end{bmatrix}\n",
    "$$\n",
    "\n"
   ]
  },
  {
   "cell_type": "markdown",
   "metadata": {},
   "source": [
    "# Task 2 ASSIGNMENT\n",
    "Create a function, called `applyOp`, which receives the operator $\\mathbf{R(\\theta)}$ and a 2-dimensional vector, internally applies $\\mathbf{R(\\theta)}$ to that vector, returning the result of that mapping.\n",
    "\n",
    "$$\n",
    "\\mathbf{R(\\theta)} = \\begin{bmatrix}\n",
    "\\cos(\\theta) & -\\sin(\\theta) \\\\\n",
    "\\sin(\\theta) & \\cos(\\theta)\n",
    "\\end{bmatrix}\n",
    "$$\n",
    "\n",
    "\n",
    "Test your function with different values of $\\theta$ and different vectors.\n",
    "\n"
   ]
  },
  {
   "cell_type": "markdown",
   "metadata": {},
   "source": [
    "# Hermitian and Unitary Operators\n",
    "\n",
    "An _complex square matrix_ $\\mathbf{U}$, that is also [invertible](https://en.wikipedia.org/wiki/Invertible_matrix), is **unitary** if its conjugate transpose $\\mathbf{U^*}$ is also its inverse ($\\mathbf{U^{-1}}$), that is,\n",
    "\n",
    "\n",
    "$$\n",
    "\\mathbf{U^*}\\mathbf{U} = \\mathbf{U}\\mathbf{U^*} = \\mathbf{U}\\mathbf{U^{-1}} = \\mathbf{I}\n",
    "$$\n",
    "\n",
    "\n",
    "where $\\mathbf{I}$ is the identity matrix.\n",
    "\n",
    "In quantum mechanics, the conjugate transpose is referred as the **Hermitian** of a matrix and is denoted with the dagger symbol ($\\dagger$),\n",
    "\n",
    "$$\n",
    "\\mathbf{U^*}\\mathbf{U} = \\mathbf{U}\\mathbf{U^*} = \\mathbf{U}\\mathbf{U^{-1}} = \\mathbf{I}\n",
    "$$\n",
    "\n",
    "This definition for matrices is extended to linear operators, calling them **unitary operators**. A unitary operator preserves the _lengths_ and _angles_ between vectors, and it can be considered as a type of rotation operator.\n"
   ]
  },
  {
   "cell_type": "markdown",
   "metadata": {},
   "source": [
    " # Task 3\n",
    "\n",
    "Make a function that takes a parameter representing an matrix and returns `True` if the matrix is unitary, and `False` otherwise.\n",
    "\n",
    "Use the `numpy` functions called [`allclose`](https://numpy.org/doc/stable/reference/generated/numpy.allclose.html) and [`eye`](https://numpy.org/devdocs/reference/generated/numpy.eye.html) (click on each one to go to its documentation).\n",
    "\n",
    "Test your function with the matrices $\\mathbf{M_1}$, $\\mathbf{M_2}$ and $\\mathbf{R(\\theta)}$ with different values of $\\theta$.\n",
    "\n",
    "\n",
    "$$\n",
    "\\mathbf{M_1} = \\begin{bmatrix}\n",
    "\\frac{1}{\\sqrt{2}} & \\frac{1}{\\sqrt{2}} \\\\\n",
    "\\frac{1}{\\sqrt{2}} & -\\frac{1}{\\sqrt{2}}\n",
    "\\end{bmatrix}\n",
    "~~~~~,~~~~~\n",
    "\\mathbf{M_2} = \\begin{bmatrix}\n",
    "3 & 0 \\\\\n",
    "0 & 3\n",
    "\\end{bmatrix}\n",
    "~~~~~,~~~~~\n",
    "\\mathbf{R(\\theta)} = \\begin{bmatrix}\n",
    "\\cos(\\theta) & -\\sin(\\theta) \\\\\n",
    "\\sin(\\theta) & \\cos(\\theta)\n",
    "\\end{bmatrix}\n",
    "$$\n",
    "\n",
    "\n"
   ]
  },
  {
   "cell_type": "code",
   "execution_count": null,
   "metadata": {},
   "outputs": [],
   "source": [
    "from math import cos, sin, pi, sqrt\n",
    "import numpy as np\n",
    "\n",
    "def operatorR(theta):       # use of special word \"def\"\n",
    "                            # receives the parameter called \"theta\", a variable\n",
    "\n",
    "    R = np.array([[cos(theta), -sin(theta)],\n",
    "                  [sin(theta),  cos(theta)]])\n",
    "\n",
    "    return R                # returns the R(theta) operator in matrix form for the specified \"theta\" value"
   ]
  },
  {
   "cell_type": "markdown",
   "metadata": {},
   "source": [
    "# Tensor Product\n",
    "The **tensor product**, denoted by $\\otimes$, is an operation between elements of two vector spaces, although it can be the same vector space for both factors.\n",
    "\n",
    "If the factors are matrices, then it is known as the **Kronecker product** and in general it behaves like this:\n",
    "\n",
    "$$\n",
    "\\mathbf{A} \\otimes \\mathbf{B} = \\begin{bmatrix}\n",
    "a_{11}\\mathbf{B} & \\cdots & a_{1n}\\mathbf{B} \\\\\n",
    "\\vdots & \\ddots & \\vdots \\\\\n",
    "a_{m1}\\mathbf{B} & \\cdots & a_{mn}\\mathbf{B}\n",
    "\\end{bmatrix}\n",
    "$$\n",
    "\n",
    "where $a_{ij}$ are the elements of the matrix $\\mathbf{A}$.\n",
    "\n"
   ]
  },
  {
   "cell_type": "code",
   "execution_count": null,
   "metadata": {},
   "outputs": [],
   "source": []
  }
 ],
 "metadata": {
  "kernelspec": {
   "display_name": "Python 3",
   "language": "python",
   "name": "python3"
  },
  "language_info": {
   "codemirror_mode": {
    "name": "ipython",
    "version": 3
   },
   "file_extension": ".py",
   "mimetype": "text/x-python",
   "name": "python",
   "nbconvert_exporter": "python",
   "pygments_lexer": "ipython3",
   "version": "3.12.5"
  }
 },
 "nbformat": 4,
 "nbformat_minor": 2
}
